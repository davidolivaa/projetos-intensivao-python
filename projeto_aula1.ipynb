{
  "nbformat": 4,
  "nbformat_minor": 0,
  "metadata": {
    "colab": {
      "name": "projeto_aula1.ipynb",
      "provenance": [],
      "collapsed_sections": [],
      "mount_file_id": "1v3SVSDmFTB4BA-ffnHGGNjZzMsvJhmjA",
      "authorship_tag": "ABX9TyMbYLO/ZNZo0rlK/LWMHTFz",
      "include_colab_link": true
    },
    "kernelspec": {
      "name": "python3",
      "display_name": "Python 3"
    }
  },
  "cells": [
    {
      "cell_type": "markdown",
      "metadata": {
        "id": "view-in-github",
        "colab_type": "text"
      },
      "source": [
        "<a href=\"https://colab.research.google.com/github/davidolivaa/projetos-intensivao-python/blob/main/projeto_aula1.ipynb\" target=\"_parent\"><img src=\"https://colab.research.google.com/assets/colab-badge.svg\" alt=\"Open In Colab\"/></a>"
      ]
    },
    {
      "cell_type": "code",
      "metadata": {
        "id": "rh8NqSSyqQal"
      },
      "source": [
        "import pandas as pd\r\n",
        "\r\n",
        "df = pd.read_excel(r'/content/drive/MyDrive/Colab Notebooks/aula 1/Vendas.xlsx')\r\n",
        "faturamento = df[['ID Loja', 'Valor Final']].groupby('ID Loja').sum()\r\n",
        "faturamento = faturamento.sort_values(by='Valor Final', ascending=False)\r\n",
        "#display(faturamento)\r\n",
        "\r\n",
        "quantidade = df[['ID Loja', 'Quantidade']].groupby('ID Loja').sum()\r\n",
        "quantidade = quantidade.sort_values(by='ID Loja', ascending=False)\r\n",
        "#display(quantidade)\r\n",
        "\r\n",
        "ticket_medio = (faturamento['Valor Final']/quantidade['Quantidade']).to_frame()\r\n",
        "ticket_medio = ticket_medio.rename(columns={0: 'Ticket Medio'})\r\n",
        "ticket_medio = ticket_medio.sort_values(by='Ticket Medio', ascending=False)\r\n",
        "#display(ticket_medio)\r\n",
        "\r\n",
        "# funçao enviar_email\r\n",
        "import smtplib\r\n",
        "import email.message\r\n",
        "\r\n",
        "password = input('Digite sua senha: ') \r\n",
        "\r\n",
        "def enviar_email(resumo_loja, loja): \r\n",
        "  server = smtplib.SMTP('smtp.gmail.com:587')  \r\n",
        "  corpo_email = f'''\r\n",
        "  <p>Prezado,</p>\r\n",
        "  <p>Segue o relatorio</p>\r\n",
        "  {resumo_loja.to_html()}\r\n",
        "  <p>att</p>\r\n",
        "  '''\r\n",
        "    \r\n",
        "  msg = email.message.Message()\r\n",
        "  msg['Subject'] = f\"Relatorio de Vendas - {loja}\"\r\n",
        "    \r\n",
        "  # Fazer antes (apenas na 1ª vez): Ativar Aplicativos não Seguros.\r\n",
        "    # Gerenciar Conta Google -> Segurança -> Aplicativos não Seguros -> Habilitar\r\n",
        "  # Caso mesmo assim dê o erro: smtplib.SMTPAuthenticationError: (534,\r\n",
        "  # Você faz o login no seu e-mail e depois entra em: https://accounts.google.com/DisplayUnlockCaptcha\r\n",
        "  msg['From'] = 'seuemail@gmail.com'\r\n",
        "  msg['To'] = 'seuemail@gmail.com'\r\n",
        "  \r\n",
        "  msg.add_header('Content-Type', 'text/html')\r\n",
        "  msg.set_payload(corpo_email )\r\n",
        "    \r\n",
        "  s = smtplib.SMTP('smtp.gmail.com: 587')\r\n",
        "  s.starttls()\r\n",
        "  # Login Credentials for sending the mail\r\n",
        "  s.login(msg['From'], password)\r\n",
        "  s.sendmail(msg['From'], [msg['To']], msg.as_string().encode('utf-8'))\r\n",
        "  print('Email enviado')\r\n",
        "\r\n",
        "\r\n",
        "lojas = df['ID Loja'].unique()\r\n",
        "for loja in lojas:\r\n",
        "  tabela_loja = df.loc[df['ID Loja'] == loja, ['ID Loja', 'Quantidade', 'Valor Final']]\r\n",
        "  resumo_loja = tabela_loja.groupby('ID Loja').sum()\r\n",
        "  resumo_loja['Ticket Medio'] = resumo_loja['Valor Final'] / resumo_loja['Quantidade']\r\n",
        "  enviar_email(resumo_loja , loja)\r\n",
        "\r\n",
        "  # email para a diretoria\r\n",
        "  tabela_diretoria = faturamento.join(quantidade).join(ticket_medio)\r\n",
        "  enviar_email(tabela_diretoria, 'Todas as Lojas')"
      ],
      "execution_count": null,
      "outputs": []
    },
    {
      "cell_type": "markdown",
      "metadata": {
        "id": "tej95KwH0Ku6"
      },
      "source": [
        "# Nova seção"
      ]
    }
  ]
}